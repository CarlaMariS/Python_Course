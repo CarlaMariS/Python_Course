{
 "cells": [
  {
   "cell_type": "markdown",
   "metadata": {},
   "source": [
    "<img src=\"https://communications.univie.ac.at/fileadmin/_processed_/csm_Uni_Logo_2016_2f47aacf37.jpg\" \n",
    "     alt=\"Logo Universität Wien\" \n",
    "     width=\"200\"/>\n",
    "\n",
    "# Practical Machine Learning for Natural Language Processing - 2023 SS  \n",
    "\n",
    "### Assigment 2 - Generators and Classes   \n",
    "\n",
    "In this assigment we are going to play with generators and instances/classes - structures that retain state.  "
   ]
  },
  {
   "cell_type": "markdown",
   "metadata": {},
   "source": [
    "***"
   ]
  },
  {
   "cell_type": "markdown",
   "metadata": {},
   "source": [
    "### 1. Alea Iacta Est  \n",
    "\n",
    "(a) Using [generator functions](https://github.com/rsouza/Python_Course/blob/master/Notebooks/Python_Basic/03_Functions.ipynb), create an object that emulates an eight-sided dice (1-8) that is biased, such that the probability of this generator function returning a certain value is proportional to the value itself (i.e. the face \"6\" is 3 times more likely to come out than face \"2\");  \n",
    "\n",
    " <img src=\"https://cdn11.bigcommerce.com/s-70184/images/stencil/608x608/products/532/7428/d8-dice-blue__64321.1664335674.jpg\" alt=\"8-Dice\" style=\"width:250px;height:300px;\"> \n",
    "\n",
    "(b) Using [Matplotlib](https://matplotlib.org/) plt.plot or plt.hist commands, show graphically the result of 10000 casts of the die;  \n",
    "\n",
    "(c) Modify this generator function so that it terminates automatically when all possible values (1,2,3,4,5,6,7,8) have been cast at least once. In this case, it will return the total absolute time that has elapsed since the first iteration.  (hint: a function can have both **return** and **yield** commands)  "
   ]
  },
  {
   "cell_type": "code",
   "execution_count": 152,
   "metadata": {},
   "outputs": [
    {
     "name": "stdout",
     "output_type": "stream",
     "text": [
      "{8: 2236, 7: 1964, 6: 1693, 3: 804, 5: 1392, 4: 1115, 2: 525, 1: 271}\n"
     ]
    }
   ],
   "source": [
    "# a)\n",
    "import random\n",
    "\n",
    "def my_dice():\n",
    "    sides = [1, 2, 3, 4, 5, 6, 7, 8]\n",
    "    weights = [1, 2, 3, 4, 5, 6, 7, 8]\n",
    "    while True:\n",
    "        yield random.choices(sides, weights=weights, k=1)\n",
    "\n",
    "throw = my_dice()\n",
    "rolls = []\n",
    "for i in range(10000):\n",
    "    rolls.append((next(throw)))\n",
    "#print(rolls)\n",
    "    \n",
    "my_rolls = {}\n",
    "for element in rolls:\n",
    "    if element[0] in my_rolls:\n",
    "        my_rolls[element[0]] += 1\n",
    "    else:\n",
    "        my_rolls[element[0]] = 1\n",
    "print(my_rolls)"
   ]
  },
  {
   "cell_type": "code",
   "execution_count": 153,
   "metadata": {},
   "outputs": [
    {
     "data": {
      "text/plain": [
       "<BarContainer object of 8 artists>"
      ]
     },
     "execution_count": 153,
     "metadata": {},
     "output_type": "execute_result"
    },
    {
     "data": {
      "image/png": "[encoded data removed]",
      "text/plain": [
       "<Figure size 576x576 with 1 Axes>"
      ]
     },
     "metadata": {
      "needs_background": "light"
     },
     "output_type": "display_data"
    }
   ],
   "source": [
    "# b)\n",
    "import matplotlib.pyplot as plt\n",
    "xes = my_rolls.keys()\n",
    "yes = my_rolls.values()\n",
    "plt.figure(figsize=(8,8))\n",
    "plt.bar(xes, yes)"
   ]
  },
  {
   "cell_type": "code",
   "execution_count": 154,
   "metadata": {},
   "outputs": [
    {
     "name": "stdout",
     "output_type": "stream",
     "text": [
      "Rolls are over. There were 61 throws made which took 0.0\n"
     ]
    }
   ],
   "source": [
    "# c)\n",
    "import time\n",
    "\n",
    "def modified_dice():\n",
    "    sides = [1, 2, 3, 4, 5, 6, 7, 8]\n",
    "    weights = [1, 2, 3, 4, 5, 6, 7, 8]\n",
    "    start = time.time()\n",
    "    results = set()\n",
    "    counter = 0\n",
    "    while len(results) < 8:\n",
    "        r= random.choices(sides, weights=weights, k=1)[0]\n",
    "        results.add(r)\n",
    "        yield r\n",
    "        counter += 1\n",
    "    time_taken = time.time()- start\n",
    "    return [counter, time_taken]\n",
    "\n",
    "mod = modified_dice()\n",
    "\n",
    "try:\n",
    "    while True:\n",
    "        next(mod)\n",
    "except StopIteration as ex:\n",
    "    print(f\"Rolls are over. There were {ex.value[0]} throws made which took {ex.value[1]}\")"
   ]
  },
  {
   "cell_type": "markdown",
   "metadata": {},
   "source": [
    "### 2. A ticket to the first Class    \n",
    "\n",
    "+ Create a Class called \"Elevator\". Each instance of this class receives as parameters the number of floors in the building and starts the elevator on the lowest floor.  \n",
    "+ This Class should have methods and properties to allow the elevator to:\n",
    "<br></br>\n",
    "    + XReceive a call - user(s) press a button to go to specific floor(s);  \n",
    "    + XReceive a floor as a destination - when users enter the elevator, each one may press a button to choose destination floor;  \n",
    "    + XStore and inform which floor the elevator is at each moment(consider that trips for consecutive floors takes 5 seconds, and stopping takes 10 seconds);  \n",
    "    + XStore and inform which users are in the elevator;  \n",
    "    + XStore and inform the sequence of floors yet to be visited;  \n",
    "    + XStore the number of times the elevator stopped in each floor (passing through the floor without \"stopping\" on the floor does not count);  \n",
    "    + XRefuses commands to go to inexistent floors.  \n",
    "<br></br>\n",
    "+ Simulate the behavior of the elevator serving ten users, each one calling from a random floor, and chosing a random destination floor.   \n",
    "+ Graphically illustrate the current elevator position for the requested simulation.   \n",
    "+ (BONUS) Create a smart building simulator, controlling calls made to n > 1 elevators and routing elevator properly.  "
   ]
  },
  {
   "cell_type": "code",
   "execution_count": null,
   "metadata": {},
   "outputs": [
    {
     "name": "stdout",
     "output_type": "stream",
     "text": [
      "Floor: 0\n",
      "Elevator called by user {'name': 'Hippidy', 'enter': 0, 'destination': 1}\n",
      "Button pushed. Already on target floor: 0\n",
      "Elevator called by user {'name': 'Hoppidy', 'enter': 7, 'destination': 3}\n",
      "Button pushed. Future stops: [7]\n",
      "Elevator called by user {'name': 'Humpty', 'enter': 2, 'destination': 1}\n",
      "Button pushed. Future stops: [7, 2]\n",
      "Elevator called by user {'name': 'Dumpty', 'enter': 0, 'destination': 0}\n",
      "Button pushed. Already on target floor: 0\n",
      "Elevator called by user {'name': 'Hups', 'enter': 5, 'destination': 6}\n",
      "Button pushed. Future stops: [7, 2, 5]\n",
      "Elevator called by user {'name': 'Herold', 'enter': 6, 'destination': 3}\n",
      "Button pushed. Future stops: [7, 2, 5, 6]\n",
      "Elevator called by user {'name': 'Grete', 'enter': 0, 'destination': 5}\n",
      "Button pushed. Already on target floor: 0\n",
      "Elevator called by user {'name': 'Bertha', 'enter': 3, 'destination': 2}\n",
      "Button pushed. Future stops: [7, 2, 5, 6, 3]\n",
      "Elevator called by user {'name': 'Gertrude', 'enter': 3, 'destination': 1}\n",
      "Button pushed. Future stops: [7, 2, 5, 6, 3, 3]\n",
      "Elevator called by user {'name': 'Christa', 'enter': 2, 'destination': 1}\n",
      "Button pushed. Future stops: [7, 2, 5, 6, 3, 3, 2]\n",
      "Opening doors on floor 0\n",
      "Button pushed. Future stops: [1, 7, 2, 5, 6, 3, 3, 2]\n",
      "Button pushed. Already on target floor: 0\n",
      "Button pushed. Future stops: [5, 1, 7, 2, 6, 3, 3, 2]\n"
     ]
    }
   ],
   "source": [
    "import time\n",
    "import random\n",
    "from IPython.display import clear_output\n",
    "    \n",
    "class Elevator:\n",
    "    def __init__(self, bottom, top, current):\n",
    "        self.bottom = bottom\n",
    "        self.top = top\n",
    "        self.current = bottom\n",
    "        \n",
    "        self.floor_dict = {floor: 0 for floor in range(bottom, top+1)}\n",
    "        self.passed_floors = []\n",
    "        self.future_stops = []\n",
    "        self.users = []\n",
    "        self.calling_users = []\n",
    "        \n",
    "        self.switchScheduled = False\n",
    "        self.print_elevator(self.current)\n",
    "\n",
    "    def call(self, user):\n",
    "        self.calling_users.append(user)\n",
    "        self.log(f\"Elevator called by user {user}\")\n",
    "        self.schedule_stop(user[\"enter\"])\n",
    "    \n",
    "    def move_to_destinations(self):\n",
    "        if self.switchScheduled:\n",
    "            self.switch_users()\n",
    "            self.switchScheduled = False\n",
    "        while len(self.future_stops):\n",
    "            next_stop = self.future_stops.pop(0)\n",
    "            self.go_to(next_stop)\n",
    "            self.floor_dict[next_stop] += 1\n",
    "            self.switch_users()\n",
    "            self.print_elevator(self.current)\n",
    "            \n",
    "    def schedule_stop(self, floor, high_prio=False):\n",
    "        if floor not in range(self.bottom, self.top+1):\n",
    "            print(\"This floor does not exist\")\n",
    "            return\n",
    "        if floor != self.current:\n",
    "            if high_prio:\n",
    "                if floor in self.future_stops:\n",
    "                    self.future_stops.remove(floor)\n",
    "                self.future_stops.insert(0, floor)\n",
    "            else:\n",
    "                self.future_stops.append(floor)\n",
    "            self.log(f\"Button pushed. Future stops: {self.future_stops}\")\n",
    "        else:\n",
    "            self.switchScheduled = True\n",
    "            self.log(f\"Button pushed. Already on target floor: {self.current}\")\n",
    "    \n",
    "    def switch_users(self):\n",
    "        self.log(f\"Opening doors on floor {self.current}\")\n",
    "        calling_users_to_remove = []\n",
    "        for user in self.calling_users:\n",
    "            if user[\"enter\"] == self.current:\n",
    "                calling_users_to_remove.append(user)\n",
    "                self.users.append(user)\n",
    "                self.schedule_stop(user[\"destination\"], True)\n",
    "        for user in calling_users_to_remove:\n",
    "            self.calling_users.remove(user)\n",
    "                \n",
    "        users_to_remove = []\n",
    "        for user in self.users:\n",
    "            if user[\"destination\"] == self.current:\n",
    "                users_to_remove.append(user)\n",
    "        for user in users_to_remove:\n",
    "            self.users.remove(user)\n",
    "        time.sleep(10)\n",
    "        self.log(f\"Closing doors\")\n",
    "        #self.log(f\"Current passengers: {self.users}\")\n",
    "        \n",
    "    def go_to(self, floor):\n",
    "        if self.current == floor:\n",
    "            self.log(f\"Already on target floor {floor}\")\n",
    "            return\n",
    "        self.log(f\"Going to floor {floor}\")\n",
    "        while self.current != floor:\n",
    "            self.log(f\"Current floor: {self.current}\")\n",
    "            self.passed_floors.append(self.current)\n",
    "            if self.current > floor:\n",
    "                self.current -= 1\n",
    "            elif floor > self.current:\n",
    "                self.current += 1\n",
    "            time.sleep(5)\n",
    "            \n",
    "    def log(self, message):\n",
    "        print(message)\n",
    "        1 + 2\n",
    "        \n",
    "    def print_elevator(self, floor):\n",
    "            print(f\"Floor: {floor}\")\n",
    "        \n",
    "top = 7\n",
    "bottom = 0\n",
    "elevator = Elevator(bottom, top, 0)\n",
    "\n",
    "users = [{\"name\": \"Hippidy\", \"enter\": random.randint(bottom, top), \"destination\": random.randint(bottom, top)}, \n",
    "         {\"name\": \"Hoppidy\", \"enter\": random.randint(bottom, top), \"destination\": random.randint(bottom, top)}, \n",
    "         {\"name\": \"Humpty\", \"enter\": random.randint(bottom, top), \"destination\": random.randint(bottom, top)}, \n",
    "         {\"name\": \"Dumpty\", \"enter\": random.randint(bottom, top), \"destination\": random.randint(bottom, top)},\n",
    "         {\"name\": \"Hups\", \"enter\": random.randint(bottom, top), \"destination\": random.randint(bottom, top)}, \n",
    "         {\"name\": \"Herold\", \"enter\": random.randint(bottom, top), \"destination\": random.randint(bottom, top)}, \n",
    "         {\"name\": \"Grete\", \"enter\": random.randint(bottom, top), \"destination\": random.randint(bottom, top)}, \n",
    "         {\"name\": \"Bertha\", \"enter\": random.randint(bottom, top), \"destination\": random.randint(bottom, top)},\n",
    "         {\"name\": \"Gertrude\", \"enter\": random.randint(bottom, top), \"destination\": random.randint(bottom, top)}, \n",
    "         {\"name\": \"Christa\", \"enter\": random.randint(bottom, top), \"destination\": random.randint(bottom, top)}]\n",
    "\n",
    "for user in users:\n",
    "    elevator.call(user)\n",
    "\n",
    "elevator.move_to_destinations()"
   ]
  },
  {
   "cell_type": "code",
   "execution_count": null,
   "metadata": {},
   "outputs": [],
   "source": []
  }
 ],
 "metadata": {
  "kernelspec": {
   "display_name": "Python 3 (ipykernel)",
   "language": "python",
   "name": "python3"
  },
  "language_info": {
   "codemirror_mode": {
    "name": "ipython",
    "version": 3
   },
   "file_extension": ".py",
   "mimetype": "text/x-python",
   "name": "python",
   "nbconvert_exporter": "python",
   "pygments_lexer": "ipython3",
   "version": "3.9.12"
  }
 },
 "nbformat": 4,
 "nbformat_minor": 4
}
